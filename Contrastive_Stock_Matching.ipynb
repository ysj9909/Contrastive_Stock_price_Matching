{
  "nbformat": 4,
  "nbformat_minor": 0,
  "metadata": {
    "colab": {
      "name": "Contrastive_Stock_Matching.ipynb",
      "provenance": [],
      "collapsed_sections": [],
      "machine_shape": "hm"
    },
    "kernelspec": {
      "name": "python3",
      "display_name": "Python 3"
    },
    "language_info": {
      "name": "python"
    },
    "accelerator": "GPU",
    "gpuClass": "standard"
  },
  "cells": [
    {
      "cell_type": "code",
      "source": [
        "!pip install timm"
      ],
      "metadata": {
        "id": "7ToP2Oqom_HI"
      },
      "execution_count": null,
      "outputs": []
    },
    {
      "cell_type": "code",
      "source": [
        "import math\n",
        "import time\n",
        "import copy\n",
        "import os\n",
        "import os.path\n",
        "import numpy as np\n",
        "import torch\n",
        "import torch.nn as  nn\n",
        "import torch.nn.functional as F\n",
        "from pandas import read_csv\n",
        "from torch.utils.data import Dataset, TensorDataset, DataLoader\n",
        "import torchvision.transforms as transforms\n",
        "from timm.models.layers import DropPath, to_2tuple, trunc_normal_"
      ],
      "metadata": {
        "id": "wNswPNp7YzRS"
      },
      "execution_count": 4,
      "outputs": []
    },
    {
      "cell_type": "code",
      "source": [
        "# device configuration\n",
        "device = torch.device(\"cuda\" if torch.cuda.is_available() else \"cpu\")"
      ],
      "metadata": {
        "id": "YflkgfCcZAFN"
      },
      "execution_count": 5,
      "outputs": []
    },
    {
      "cell_type": "markdown",
      "source": [
        "# 데이터셋 준비"
      ],
      "metadata": {
        "id": "m2fYmlO5u91J"
      }
    },
    {
      "cell_type": "code",
      "source": [
        "df = read_csv('stockdata.csv')\n",
        "data = df.values\n",
        "data = data.T\n",
        "data = np.array(data)\n",
        "data"
      ],
      "metadata": {
        "colab": {
          "base_uri": "https://localhost:8080/"
        },
        "id": "1yfOh7t5u_iW",
        "outputId": "ebe8bc9d-88c6-4fde-e97a-b104aee1ce8a"
      },
      "execution_count": 215,
      "outputs": [
        {
          "output_type": "execute_result",
          "data": {
            "text/plain": [
              "array([[13750., 14050., 14100., ..., 12400., 12350., 12250.],\n",
              "       [13750., 13750., 14050., ..., 12200., 12450., 12300.],\n",
              "       [13800., 14050., 14100., ..., 12500., 12450., 12350.],\n",
              "       ...,\n",
              "       [10400., 10800., 10450., ...,  4150.,  4095.,  4295.],\n",
              "       [10900., 10800., 10450., ...,  4270.,  4265.,  4315.],\n",
              "       [10250., 10350., 10050., ...,  4095.,  4085.,  4130.]])"
            ]
          },
          "metadata": {},
          "execution_count": 215
        }
      ]
    },
    {
      "cell_type": "code",
      "source": [
        "data.shape"
      ],
      "metadata": {
        "colab": {
          "base_uri": "https://localhost:8080/"
        },
        "id": "xv0pyqWkwMYe",
        "outputId": "3f7651bb-e2b0-49b4-b1f2-1e4e7cc5458e"
      },
      "execution_count": 216,
      "outputs": [
        {
          "output_type": "execute_result",
          "data": {
            "text/plain": [
              "(12944, 121)"
            ]
          },
          "metadata": {},
          "execution_count": 216
        }
      ]
    },
    {
      "cell_type": "code",
      "source": [
        "data = np.nan_to_num(data)"
      ],
      "metadata": {
        "id": "mouCEScwNNpS"
      },
      "execution_count": 217,
      "outputs": []
    },
    {
      "cell_type": "code",
      "source": [
        "data_ = []\n",
        "nans = []\n",
        "for i in range(data.shape[0]):\n",
        "    if not np.isnan(data[i]).any():\n",
        "        data_.append(data[i])\n",
        "    else:\n",
        "        nans.append(data[i])\n",
        "\n",
        "nans = np.array(nans)\n",
        "print(nans.shape)\n",
        "data = np.array(data_)\n",
        "print(data.shape)"
      ],
      "metadata": {
        "colab": {
          "base_uri": "https://localhost:8080/"
        },
        "id": "Ck18pblxNeNo",
        "outputId": "45e9a0fe-6ec7-48c6-a8c8-85a5b6d071f1"
      },
      "execution_count": 214,
      "outputs": [
        {
          "output_type": "stream",
          "name": "stdout",
          "text": [
            "(0,)\n",
            "(12944, 121)\n"
          ]
        }
      ]
    },
    {
      "cell_type": "code",
      "source": [
        "'''\n",
        "data_ = []\n",
        "nans = []\n",
        "for i in range(data.shape[0]):\n",
        "    if not np.isnan(data[i]).any():\n",
        "        data_.append(data[i])\n",
        "    else:\n",
        "        nans.append(data[i])\n",
        "\n",
        "nans = np.array(nans)\n",
        "print(nans.shape)\n",
        "data = np.array(data_)\n",
        "print(data.shape)\n",
        "'''"
      ],
      "metadata": {
        "colab": {
          "base_uri": "https://localhost:8080/"
        },
        "id": "D4VkdU8lHbws",
        "outputId": "0ca35ac9-8c1e-4e0c-9f9b-9e4262fedbaa"
      },
      "execution_count": 165,
      "outputs": [
        {
          "output_type": "stream",
          "name": "stdout",
          "text": [
            "(626, 121)\n",
            "(12318, 121)\n"
          ]
        }
      ]
    },
    {
      "cell_type": "code",
      "source": [
        "# 종가\n",
        "data_close_price=[data[0]]\n",
        "for i in range(2,3237):\n",
        "  arr = np.array(data[4*(i-1)])\n",
        "  data_close_price = np.append(data_close_price, [arr], axis=0)\n",
        "\n",
        "\n",
        "data_close_price"
      ],
      "metadata": {
        "colab": {
          "base_uri": "https://localhost:8080/"
        },
        "id": "edutnJmwwUkA",
        "outputId": "836fbb1f-d4be-4cd7-fa45-5e01c6a2dc4f"
      },
      "execution_count": 218,
      "outputs": [
        {
          "output_type": "execute_result",
          "data": {
            "text/plain": [
              "array([[13750., 14050., 14100., ..., 12400., 12350., 12250.],\n",
              "       [14950., 14900., 14550., ...,  9820.,  9840.,  9690.],\n",
              "       [  876.,   899.,   917., ...,   630.,   629.,   619.],\n",
              "       ...,\n",
              "       [ 8880.,  9020.,  8820., ...,  5730.,  5700.,  5460.],\n",
              "       [21300., 21000., 20450., ..., 11400., 11100., 11450.],\n",
              "       [10850., 10450., 10100., ...,  4190.,  4230.,  4180.]])"
            ]
          },
          "metadata": {},
          "execution_count": 218
        }
      ]
    },
    {
      "cell_type": "code",
      "source": [
        "# 시가\n",
        "data_open=[data[1]]\n",
        "for i in range(2,3237):\n",
        "  arr = np.array(data[4*(i-1)+1])\n",
        "  data_open = np.append(data_open, [arr], axis=0)\n",
        "\n",
        "\n",
        "data_open"
      ],
      "metadata": {
        "colab": {
          "base_uri": "https://localhost:8080/"
        },
        "id": "3cK9YL5uwY2y",
        "outputId": "a366f00b-af1d-46b8-a625-5403fc05b995"
      },
      "execution_count": 219,
      "outputs": [
        {
          "output_type": "execute_result",
          "data": {
            "text/plain": [
              "array([[13750., 13750., 14050., ..., 12200., 12450., 12300.],\n",
              "       [14800., 15000., 14900., ...,  9670.,  9650.,  9790.],\n",
              "       [  867.,   871.,   901., ...,   628.,   630.,   629.],\n",
              "       ...,\n",
              "       [ 8890.,  8880.,  8910., ...,  5690.,  5670.,  5720.],\n",
              "       [20900., 21000., 21000., ..., 11550., 11150., 11250.],\n",
              "       [10400., 10800., 10450., ...,  4150.,  4095.,  4295.]])"
            ]
          },
          "metadata": {},
          "execution_count": 219
        }
      ]
    },
    {
      "cell_type": "code",
      "source": [
        "# 고가\n",
        "data_high=[data[2]]\n",
        "for i in range(2,3237):\n",
        "  arr = np.array(data[4*(i-1)+2])\n",
        "  data_high = np.append(data_high, [arr], axis=0)\n",
        "\n",
        "\n",
        "data_high"
      ],
      "metadata": {
        "colab": {
          "base_uri": "https://localhost:8080/"
        },
        "id": "Q9KVl5h5wdGL",
        "outputId": "9ab609b7-e22b-4af4-af46-ff8b43ffa96a"
      },
      "execution_count": 220,
      "outputs": [
        {
          "output_type": "execute_result",
          "data": {
            "text/plain": [
              "array([[13800., 14050., 14100., ..., 12500., 12450., 12350.],\n",
              "       [15000., 15000., 14900., ...,  9820.,  9870.,  9880.],\n",
              "       [  880.,   901.,   921., ...,   641.,   630.,   634.],\n",
              "       ...,\n",
              "       [ 8890.,  9050.,  8980., ...,  5760.,  5900.,  5790.],\n",
              "       [21650., 21400., 21100., ..., 11650., 11450., 12050.],\n",
              "       [10900., 10800., 10450., ...,  4270.,  4265.,  4315.]])"
            ]
          },
          "metadata": {},
          "execution_count": 220
        }
      ]
    },
    {
      "cell_type": "code",
      "source": [
        "# 저가\n",
        "data_low=[data[3]]\n",
        "for i in range(2,3237):\n",
        "  arr = np.array(data[4*(i-1)+3])\n",
        "  data_low = np.append(data_low, [arr], axis=0)\n",
        "\n",
        "\n",
        "data_low"
      ],
      "metadata": {
        "colab": {
          "base_uri": "https://localhost:8080/"
        },
        "id": "qu9loMe-wfSY",
        "outputId": "69892a4a-c551-4054-e761-13ace9cfeb05"
      },
      "execution_count": 221,
      "outputs": [
        {
          "output_type": "execute_result",
          "data": {
            "text/plain": [
              "array([[13600., 13700., 13950., ..., 12150., 12150., 11800.],\n",
              "       [14600., 14750., 14500., ...,  9570.,  9650.,  9680.],\n",
              "       [  866.,   868.,   894., ...,   620.,   605.,   616.],\n",
              "       ...,\n",
              "       [ 8750.,  8750.,  8810., ...,  5520.,  5610.,  5430.],\n",
              "       [20750., 20900., 20350., ..., 11300., 11100., 11200.],\n",
              "       [10250., 10350., 10050., ...,  4095.,  4085.,  4130.]])"
            ]
          },
          "metadata": {},
          "execution_count": 221
        }
      ]
    },
    {
      "cell_type": "code",
      "source": [
        "data_close_price = torch.from_numpy(data_close_price)\n",
        "\n",
        "data_open = torch.from_numpy(data_open)\n",
        "\n",
        "data_high = torch.from_numpy(data_high)\n",
        "\n",
        "data_low = torch.from_numpy(data_low)"
      ],
      "metadata": {
        "id": "RaU5Rss-wkJi"
      },
      "execution_count": 222,
      "outputs": []
    },
    {
      "cell_type": "code",
      "source": [
        "class MyBaseDataset(Dataset):\n",
        "    def __init__(self, x_data, y_data):\n",
        "        self.x_data = x_data\n",
        "        self.y_data = y_data\n",
        "        \n",
        "    def __getitem__(self, index): \n",
        "        return self.x_data[index], self.y_data[index]\n",
        "        \n",
        "    def __len__(self): \n",
        "        return self.x_data.shape[0]"
      ],
      "metadata": {
        "id": "oD3bTtJVwmV3"
      },
      "execution_count": 223,
      "outputs": []
    },
    {
      "cell_type": "code",
      "source": [
        "train_data_CO = TensorDataset(data_close_price,data_open)\n",
        "train_data_CH = TensorDataset(data_close_price,data_high)\n",
        "train_data_CL = TensorDataset(data_close_price,data_low)\n",
        "train_data_OH = TensorDataset(data_open,data_high)\n",
        "train_data_OL = TensorDataset(data_open,data_low)\n",
        "train_data_HL = TensorDataset(data_high,data_low)"
      ],
      "metadata": {
        "id": "7bzkAjtQwofG"
      },
      "execution_count": 224,
      "outputs": []
    },
    {
      "cell_type": "code",
      "source": [
        "BATCH_SIZE = 256\n",
        "\n",
        "train_loader_CO = DataLoader(train_data_CO, batch_size=BATCH_SIZE, shuffle=True)\n",
        "\n",
        "train_loader_CH = DataLoader(train_data_CH, batch_size=BATCH_SIZE, shuffle=True)\n",
        "\n",
        "train_loader_CL = DataLoader(train_data_CL, batch_size=BATCH_SIZE, shuffle=True)\n",
        "\n",
        "train_loader_OH = DataLoader(train_data_OH, batch_size=BATCH_SIZE, shuffle=True)\n",
        "\n",
        "train_loader_OL = DataLoader(train_data_OL, batch_size=BATCH_SIZE, shuffle=True)\n",
        "\n",
        "train_loader_HL = DataLoader(train_data_HL, batch_size=BATCH_SIZE, shuffle=True)"
      ],
      "metadata": {
        "id": "p_p8kJ5WwrIZ"
      },
      "execution_count": 225,
      "outputs": []
    },
    {
      "cell_type": "markdown",
      "source": [
        "# 모델 정의"
      ],
      "metadata": {
        "id": "wlxryiGgYs1V"
      }
    },
    {
      "cell_type": "code",
      "source": [
        "class ConvEmbedding(nn.Module):\n",
        "    def __init__(self, \n",
        "                 patch_size = 5,\n",
        "                 stride = 1,\n",
        "                 in_chans = 1,\n",
        "                 embed_dim = 64):\n",
        "        super().__init__()\n",
        "\n",
        "        self.conv = nn.Conv1d(in_chans, embed_dim,\n",
        "                              kernel_size = patch_size, \n",
        "                              stride = stride, padding = patch_size // 2)\n",
        "        \n",
        "        self.norm = nn.LayerNorm(embed_dim)\n",
        "    \n",
        "    def forward(self, x):\n",
        "        # x, shape of (Batch_size, in_channels, seq_length)\n",
        "        x = self.conv(x)\n",
        "        x = x.transpose(-2, -1)\n",
        "        x = self.norm(x)\n",
        "\n",
        "        return x"
      ],
      "metadata": {
        "id": "l8EsN3IBYuJn"
      },
      "execution_count": 226,
      "outputs": []
    },
    {
      "cell_type": "code",
      "source": [
        "class Attention(nn.Module):\n",
        "    def __init__(self, \n",
        "                 dim,\n",
        "                 num_heads = 8,\n",
        "                 qkv_bias = False,\n",
        "                 qk_scale = None,\n",
        "                 attn_drop = 0.,\n",
        "                 proj_drop = 0.,):\n",
        "        super().__init__()\n",
        "\n",
        "        self.num_heads = num_heads\n",
        "        head_dim = dim // num_heads\n",
        "        self.scale = qk_scale or  head_dim ** -.5\n",
        "\n",
        "        self.qkv = nn.Linear(dim, dim * 3, bias = qkv_bias)\n",
        "        self.attn_drop = nn.Dropout(attn_drop)\n",
        "        self.proj = nn.Linear(dim, dim)\n",
        "        self.proj_drop = nn.Dropout(proj_drop)\n",
        "\n",
        "    def forward(self, x):\n",
        "        B, N, C = x.shape\n",
        "\n",
        "        qkv = self.qkv(x).reshape(B, N, 3, self.num_heads, C // self.num_heads).permute(2, 0, 3, 1, 4)\n",
        "        q, k, v = qkv[0], qkv[1], qkv[2]\n",
        "\n",
        "        attn = (q @ k.transpose(-2, -1)) * self.scale\n",
        "        attn = attn.softmax(dim = -1)\n",
        "        attn = self.attn_drop(attn)\n",
        "\n",
        "        x = (attn @ v).transpose(1, 2).reshape(B, N, -1)\n",
        "        x = self.proj(x)\n",
        "        x = self.proj_drop(x)\n",
        "        return x"
      ],
      "metadata": {
        "id": "dU4ynW_Ocr-m"
      },
      "execution_count": 227,
      "outputs": []
    },
    {
      "cell_type": "code",
      "source": [
        "class Mlp(nn.Module):\n",
        "    def __init__(self, \n",
        "                 in_features,\n",
        "                 hidden_features = None,\n",
        "                 out_features = None,\n",
        "                 act_layer = nn.ReLU,\n",
        "                 drop = 0.):\n",
        "        super().__init__()\n",
        "\n",
        "        out_features = out_features or in_features\n",
        "        hidden_features = hidden_features or in_features\n",
        "\n",
        "        self.fc1 = nn.Linear(in_features, hidden_features)\n",
        "        self.act = act_layer()\n",
        "        self.fc2 = nn.Linear(hidden_features, out_features)\n",
        "        self.drop = nn.Dropout(drop)\n",
        "\n",
        "    def forward(self, x):\n",
        "        x = self.fc1(x)\n",
        "        x = self.act(x)\n",
        "        x = self.drop(x)\n",
        "        x = self.fc2(x)\n",
        "        x = self.drop(x)\n",
        "        return x"
      ],
      "metadata": {
        "id": "VeCoBXkXhoS9"
      },
      "execution_count": 228,
      "outputs": []
    },
    {
      "cell_type": "code",
      "source": [
        "class Block(nn.Module):\n",
        "    def __init__(self, \n",
        "                 dim,\n",
        "                 num_heads,\n",
        "                 mlp_ratio = 4.,\n",
        "                 qkv_bias = False,\n",
        "                 drop = 0.,\n",
        "                 drop_path = 0.,\n",
        "                 attn_drop = 0.,\n",
        "                 act_layer = nn.ReLU,\n",
        "                 norm_layer = nn.LayerNorm,\n",
        "                 ):\n",
        "        super().__init__()\n",
        "\n",
        "        self.norm1 = norm_layer(dim)\n",
        "        self.MSA = Attention(dim, num_heads, qkv_bias, attn_drop = attn_drop, proj_drop = drop)\n",
        "\n",
        "        self.drop_path = DropPath(drop_path) if drop_path > 0 else nn.Identity()\n",
        "\n",
        "        self.norm2 = norm_layer(dim)\n",
        "        self.FFN = Mlp(dim, int(mlp_ratio * dim), act_layer = act_layer, drop = drop)\n",
        "\n",
        "    def forward(self, x):\n",
        "        x = x + self.drop_path(self.MSA(self.norm1(x)))\n",
        "        x = x + self.drop_path(self.FFN(self.norm2(x)))\n",
        "\n",
        "        return x"
      ],
      "metadata": {
        "id": "k_ScYaofhxwc"
      },
      "execution_count": 229,
      "outputs": []
    },
    {
      "cell_type": "code",
      "source": [
        "class Time_Series_Encoder(nn.Module):\n",
        "    def __init__(self,\n",
        "                 patch_size = 5,\n",
        "                 in_chans = 1,\n",
        "                 embed_dims = [64, 128, 256],\n",
        "                 strides = [1, 2, 2],\n",
        "                 num_heads = [2, 4, 8],\n",
        "                 mlp_ratio = 4.,\n",
        "                 qkv_bias = False,\n",
        "                 drop_rate = 0.1,\n",
        "                 attn_drop_rate = 0.,\n",
        "                 drop_path_rate = 0.1, \n",
        "                 depths = [2, 9, 1],\n",
        "                 num_stages = 3,\n",
        "                 act_layer = nn.ReLU,\n",
        "                 norm_layer = nn.LayerNorm,):\n",
        "        super().__init__()\n",
        "\n",
        "        self.depths = depths\n",
        "        self.num_stages = num_stages\n",
        "\n",
        "        dpr = [x.item() for x in torch.linspace(0, drop_path_rate, sum(depths))] # stochastic depth decay\n",
        "        cur = 0\n",
        "\n",
        "        for i in range(num_stages):\n",
        "            patch_embed = ConvEmbedding(patch_size = patch_size if i == 0 else 3,\n",
        "                                        stride = strides[i],\n",
        "                                        in_chans = 1 if i == 0 else embed_dims[i - 1],\n",
        "                                        embed_dim = embed_dims[i])\n",
        "            blocks = nn.ModuleList([\n",
        "                                    Block(embed_dims[i], num_heads = num_heads[i], \n",
        "                                          mlp_ratio = mlp_ratio, qkv_bias = qkv_bias,\n",
        "                                          drop = drop_rate, drop_path = dpr[cur + j], \n",
        "                                          attn_drop = attn_drop_rate, act_layer = act_layer,\n",
        "                                          norm_layer = norm_layer) for j in range(depths[i])\n",
        "            ])\n",
        "            norm = norm_layer(embed_dims[i])\n",
        "            cur += depths[i]\n",
        "\n",
        "            setattr(self, f\"patch_embed{i + 1}\", patch_embed)\n",
        "            setattr(self, f\"blocks{i + 1}\", blocks)\n",
        "            setattr(self, f\"norm{i + 1}\", norm)\n",
        "        \n",
        "        self.apply(self._init_weights)\n",
        "\n",
        "    def _init_weights(self, m):\n",
        "        if isinstance(m, nn.Linear):\n",
        "            trunc_normal_(m.weight, std = .02)\n",
        "            if isinstance(m, nn.Linear) and m.bias is not None:\n",
        "                nn.init.constant_(m.bias, 0.)\n",
        "        elif isinstance(m, nn.LayerNorm):\n",
        "            nn.init.constant_(m.bias, 0)\n",
        "            nn.init.constant_(m.weight, 1.0)\n",
        "    \n",
        "    def forward(self, x):\n",
        "        B = x.shape[0]\n",
        "\n",
        "        for i in range(self.num_stages):\n",
        "            patch_embed = getattr(self, f\"patch_embed{i + 1}\")\n",
        "            blocks = getattr(self, f\"blocks{i + 1}\")\n",
        "            norm = getattr(self, f\"norm{i + 1}\")\n",
        "\n",
        "            x = patch_embed(x)\n",
        "            for block in blocks:\n",
        "                x = block(x)\n",
        "            x = norm(x)\n",
        "\n",
        "            if i != self.num_stages - 1:\n",
        "                x = x.transpose(-2, -1).contiguous()\n",
        "        \n",
        "        return x.mean(dim = 1)"
      ],
      "metadata": {
        "id": "patcgC9djI0d"
      },
      "execution_count": 230,
      "outputs": []
    },
    {
      "cell_type": "code",
      "source": [
        "model = Time_Series_Encoder().to(device)"
      ],
      "metadata": {
        "id": "BVTbJBd0q8Hl"
      },
      "execution_count": 231,
      "outputs": []
    },
    {
      "cell_type": "code",
      "source": [
        "def count_parameters(model):\n",
        "    params = sum(p.numel() for p in model.parameters() if p.requires_grad)\n",
        "    return params / 1000000\n",
        "\n",
        "print(count_parameters(model))\n"
      ],
      "metadata": {
        "colab": {
          "base_uri": "https://localhost:8080/"
        },
        "id": "G2578dE_rIxV",
        "outputId": "d2ce0321-64b4-49c3-bef4-357a23a6195e"
      },
      "execution_count": 232,
      "outputs": [
        {
          "output_type": "stream",
          "name": "stdout",
          "text": [
            "2.795008\n"
          ]
        }
      ]
    },
    {
      "cell_type": "code",
      "source": [
        "def test():\n",
        "    input = torch.rand(256, 1, 121).to(device)\n",
        "    output = model(input)\n",
        "    print(output.size())"
      ],
      "metadata": {
        "id": "ACrHRm19rwbL"
      },
      "execution_count": 233,
      "outputs": []
    },
    {
      "cell_type": "code",
      "source": [
        "test()"
      ],
      "metadata": {
        "colab": {
          "base_uri": "https://localhost:8080/"
        },
        "id": "UfTIusEksFw3",
        "outputId": "4e9b11ff-54ae-4398-b62d-1d9065c4c0c7"
      },
      "execution_count": 234,
      "outputs": [
        {
          "output_type": "stream",
          "name": "stdout",
          "text": [
            "torch.Size([256, 256])\n"
          ]
        }
      ]
    },
    {
      "cell_type": "code",
      "source": [
        "def cross_entropy(preds, targets, reduction='none'):\n",
        "    log_softmax = nn.LogSoftmax(dim=-1)\n",
        "    loss = (-targets * log_softmax(preds)).sum(1)\n",
        "    if reduction == \"none\":\n",
        "        return loss\n",
        "    elif reduction == \"mean\":\n",
        "        return loss.mean()"
      ],
      "metadata": {
        "id": "QHQ2COgF1xrH"
      },
      "execution_count": 235,
      "outputs": []
    },
    {
      "cell_type": "code",
      "source": [
        "class CSM(nn.Module):\n",
        "    def __init__(self,\n",
        "                 temperature = 1.,\n",
        "                 embed_dim = 64):\n",
        "        super().__init__()\n",
        "\n",
        "        self.seq_encoder = Time_Series_Encoder().to(device)\n",
        "        self.seq_projection = nn.Sequential(\n",
        "            nn.Linear(256, embed_dim),\n",
        "            nn.GELU(),\n",
        "            nn.LayerNorm(embed_dim),\n",
        "        )\n",
        "        self.temperature = temperature\n",
        "\n",
        "    def forward(self, source, target):\n",
        "        s_features = self.seq_encoder(source)\n",
        "        t_features = self.seq_encoder(target)\n",
        "\n",
        "        # Getting source and target sequence embeddings (with same dimension)\n",
        "        s_embeddings = self.seq_projection(s_features)\n",
        "        t_embeddings = self.seq_projection(t_features)\n",
        "\n",
        "        # Calculating the loss\n",
        "        logits = (t_embeddings @ s_embeddings.T + 1e-10) / self.temperature\n",
        "        s_sim = s_embeddings @ s_embeddings.T\n",
        "        t_sim = t_embeddings @ t_embeddings.T\n",
        "        labels = F.softmax(\n",
        "            (s_sim + t_sim + 1e-10) / 2 * self.temperature, dim = -1\n",
        "        )\n",
        "        target_loss = cross_entropy(logits, labels, reduction = 'none')\n",
        "        source_loss = cross_entropy(logits.T, labels.T, reduction = 'none')\n",
        "        loss = (source_loss + target_loss) / 2.0 # shape : (batch_size, )\n",
        "\n",
        "        return loss.mean(), logits\n"
      ],
      "metadata": {
        "id": "TrmdVnSqsIil"
      },
      "execution_count": 236,
      "outputs": []
    },
    {
      "cell_type": "markdown",
      "source": [
        "# 학습하기"
      ],
      "metadata": {
        "id": "fLkqu7jM4zf9"
      }
    },
    {
      "cell_type": "code",
      "source": [
        "# training utilities\n",
        "import torch.optim as optim\n",
        "from tqdm import tqdm\n",
        "\n",
        "\n",
        "class AvgMeter:\n",
        "    def __init__(self, name=\"Metric\"):\n",
        "        self.name = name\n",
        "        self.reset()\n",
        "\n",
        "    def reset(self):\n",
        "        self.avg, self.sum, self.count = [0] * 3\n",
        "\n",
        "    def update(self, val, count=1):\n",
        "        self.count += count\n",
        "        self.sum += val * count\n",
        "        self.avg = self.sum / self.count\n",
        "\n",
        "    def __repr__(self):\n",
        "        text = f\"{self.name}: {self.avg:.4f}\"\n",
        "        return text\n",
        "\n",
        "def get_lr(optimizer):\n",
        "    for param_group in optimizer.param_groups:\n",
        "        return param_group[\"lr\"]"
      ],
      "metadata": {
        "id": "kwhQvSoR25J9"
      },
      "execution_count": 237,
      "outputs": []
    },
    {
      "cell_type": "code",
      "source": [
        "def train_epoch(model, train_loader, optimizer, lr_scheduler, step):\n",
        "    loss_meter = AvgMeter()\n",
        "    tqdm_object = tqdm(train_loader, total=len(train_loader))\n",
        "    for source, target in tqdm_object:\n",
        "        source, target = source.float().unsqueeze(1).to(device), target.float().unsqueeze(1).to(device)\n",
        "        loss, _ = model(source, target)\n",
        "        optimizer.zero_grad()\n",
        "        loss.backward()\n",
        "        optimizer.step()\n",
        "        if step == \"batch\":\n",
        "            lr_scheduler.step()\n",
        "\n",
        "        count = source.size(0)\n",
        "        loss_meter.update(loss.item(), count)\n",
        "\n",
        "        tqdm_object.set_postfix(train_loss=loss_meter.avg, lr=get_lr(optimizer))\n",
        "    return loss_meter\n",
        "\n",
        "\n",
        "def valid_epoch(model, valid_loader):\n",
        "    loss_meter = AvgMeter()\n",
        "\n",
        "    tqdm_object = tqdm(valid_loader, total=len(valid_loader))\n",
        "    for source, target in tqdm_object:\n",
        "        source, target = source.float().unsqueeze(1).to(device), target.float().unsqueeze(1).to(device)\n",
        "        loss, _ = model(source, target)\n",
        "\n",
        "        count = source.size(0)\n",
        "        loss_meter.update(loss.item(), count)\n",
        "\n",
        "        tqdm_object.set_postfix(valid_loss=loss_meter.avg)\n",
        "    return loss_meter"
      ],
      "metadata": {
        "id": "ZbQhNVkg16RR"
      },
      "execution_count": 238,
      "outputs": []
    },
    {
      "cell_type": "code",
      "source": [
        "model = CSM().to(device)"
      ],
      "metadata": {
        "id": "hKxttuJk4rX5"
      },
      "execution_count": 243,
      "outputs": []
    },
    {
      "cell_type": "code",
      "source": [
        "params = [\n",
        "        {\"params\": model.seq_encoder.parameters(), \"lr\": 1e-3},\n",
        "        {\"params\": model.seq_projection.parameters(), \n",
        "         \"lr\": 1e-3, \"weight_decay\": 0.05}\n",
        "    ]\n",
        "\n",
        "optimizer = torch.optim.AdamW(params, weight_decay = 0.)\n",
        "lr_scheduler = torch.optim.lr_scheduler.ReduceLROnPlateau(\n",
        "    optimizer, mode = 'min', patience = 5, factor = 0.8\n",
        ")\n",
        "step = 'eppch'\n",
        "num_epochs = 100"
      ],
      "metadata": {
        "id": "Gbs8-KfG7ejf"
      },
      "execution_count": 244,
      "outputs": []
    },
    {
      "cell_type": "code",
      "source": [
        "best_loss = float('inf')\n",
        "for epoch in range(num_epochs):\n",
        "    print(f\"Epoch: {epoch + 1}\")\n",
        "    model.train()\n",
        "    train_loss = train_epoch(model, train_loader_CH, optimizer, lr_scheduler, step)\n",
        "    model.eval()\n",
        "    with torch.no_grad():\n",
        "        val_loss = valid_epoch(model, train_loader_CO)\n",
        "    \n",
        "    if val_loss.avg < best_loss:\n",
        "        best_loss = val_loss.avg\n",
        "        torch.save(model.state_dict(), \"best_CSM.pt\")\n",
        "        print(\"Saved Best Model!\")\n",
        "    \n",
        "    lr_scheduler.step(val_loss.avg)"
      ],
      "metadata": {
        "colab": {
          "base_uri": "https://localhost:8080/"
        },
        "id": "lUt89Few5OW8",
        "outputId": "05c4df52-4e12-4e02-af00-ef6537f6ad90"
      },
      "execution_count": 245,
      "outputs": [
        {
          "output_type": "stream",
          "name": "stdout",
          "text": [
            "Epoch: 1\n"
          ]
        },
        {
          "output_type": "stream",
          "name": "stderr",
          "text": [
            "100%|██████████| 13/13 [00:04<00:00,  3.10it/s, lr=0.001, train_loss=5.33]\n",
            "100%|██████████| 13/13 [00:01<00:00,  9.91it/s, valid_loss=5.26]\n"
          ]
        },
        {
          "output_type": "stream",
          "name": "stdout",
          "text": [
            "Saved Best Model!\n",
            "Epoch: 2\n"
          ]
        },
        {
          "output_type": "stream",
          "name": "stderr",
          "text": [
            "100%|██████████| 13/13 [00:04<00:00,  3.12it/s, lr=0.001, train_loss=5.29]\n",
            "100%|██████████| 13/13 [00:01<00:00,  9.94it/s, valid_loss=5.26]\n"
          ]
        },
        {
          "output_type": "stream",
          "name": "stdout",
          "text": [
            "Saved Best Model!\n",
            "Epoch: 3\n"
          ]
        },
        {
          "output_type": "stream",
          "name": "stderr",
          "text": [
            "100%|██████████| 13/13 [00:04<00:00,  3.09it/s, lr=0.001, train_loss=5.28]\n",
            "100%|██████████| 13/13 [00:01<00:00,  9.79it/s, valid_loss=5.26]\n"
          ]
        },
        {
          "output_type": "stream",
          "name": "stdout",
          "text": [
            "Saved Best Model!\n",
            "Epoch: 4\n"
          ]
        },
        {
          "output_type": "stream",
          "name": "stderr",
          "text": [
            "100%|██████████| 13/13 [00:04<00:00,  3.07it/s, lr=0.001, train_loss=5.28]\n",
            "100%|██████████| 13/13 [00:01<00:00,  9.76it/s, valid_loss=5.25]\n"
          ]
        },
        {
          "output_type": "stream",
          "name": "stdout",
          "text": [
            "Saved Best Model!\n",
            "Epoch: 5\n"
          ]
        },
        {
          "output_type": "stream",
          "name": "stderr",
          "text": [
            "100%|██████████| 13/13 [00:04<00:00,  3.05it/s, lr=0.001, train_loss=5.28]\n",
            "100%|██████████| 13/13 [00:01<00:00,  9.66it/s, valid_loss=5.25]\n"
          ]
        },
        {
          "output_type": "stream",
          "name": "stdout",
          "text": [
            "Epoch: 6\n"
          ]
        },
        {
          "output_type": "stream",
          "name": "stderr",
          "text": [
            "100%|██████████| 13/13 [00:04<00:00,  3.04it/s, lr=0.001, train_loss=5.28]\n",
            "100%|██████████| 13/13 [00:01<00:00,  9.63it/s, valid_loss=5.24]\n"
          ]
        },
        {
          "output_type": "stream",
          "name": "stdout",
          "text": [
            "Saved Best Model!\n",
            "Epoch: 7\n"
          ]
        },
        {
          "output_type": "stream",
          "name": "stderr",
          "text": [
            "100%|██████████| 13/13 [00:04<00:00,  3.06it/s, lr=0.001, train_loss=5.27]\n",
            "100%|██████████| 13/13 [00:01<00:00,  9.81it/s, valid_loss=5.24]\n"
          ]
        },
        {
          "output_type": "stream",
          "name": "stdout",
          "text": [
            "Epoch: 8\n"
          ]
        },
        {
          "output_type": "stream",
          "name": "stderr",
          "text": [
            "100%|██████████| 13/13 [00:04<00:00,  3.08it/s, lr=0.001, train_loss=5.27]\n",
            "100%|██████████| 13/13 [00:01<00:00,  9.84it/s, valid_loss=5.25]\n"
          ]
        },
        {
          "output_type": "stream",
          "name": "stdout",
          "text": [
            "Epoch: 9\n"
          ]
        },
        {
          "output_type": "stream",
          "name": "stderr",
          "text": [
            "100%|██████████| 13/13 [00:04<00:00,  3.09it/s, lr=0.001, train_loss=5.27]\n",
            "100%|██████████| 13/13 [00:01<00:00,  9.86it/s, valid_loss=5.25]\n"
          ]
        },
        {
          "output_type": "stream",
          "name": "stdout",
          "text": [
            "Epoch: 10\n"
          ]
        },
        {
          "output_type": "stream",
          "name": "stderr",
          "text": [
            "100%|██████████| 13/13 [00:04<00:00,  3.11it/s, lr=0.001, train_loss=5.27]\n",
            "100%|██████████| 13/13 [00:01<00:00,  9.95it/s, valid_loss=5.25]\n"
          ]
        },
        {
          "output_type": "stream",
          "name": "stdout",
          "text": [
            "Epoch: 11\n"
          ]
        },
        {
          "output_type": "stream",
          "name": "stderr",
          "text": [
            "100%|██████████| 13/13 [00:04<00:00,  3.12it/s, lr=0.001, train_loss=5.28]\n",
            "100%|██████████| 13/13 [00:01<00:00,  9.96it/s, valid_loss=5.25]\n"
          ]
        },
        {
          "output_type": "stream",
          "name": "stdout",
          "text": [
            "Epoch: 12\n"
          ]
        },
        {
          "output_type": "stream",
          "name": "stderr",
          "text": [
            "100%|██████████| 13/13 [00:04<00:00,  3.13it/s, lr=0.001, train_loss=5.27]\n",
            "100%|██████████| 13/13 [00:01<00:00,  9.96it/s, valid_loss=5.25]\n"
          ]
        },
        {
          "output_type": "stream",
          "name": "stdout",
          "text": [
            "Epoch: 13\n"
          ]
        },
        {
          "output_type": "stream",
          "name": "stderr",
          "text": [
            "100%|██████████| 13/13 [00:04<00:00,  3.14it/s, lr=0.0008, train_loss=5.26]\n",
            "100%|██████████| 13/13 [00:01<00:00,  9.98it/s, valid_loss=5.25]\n"
          ]
        },
        {
          "output_type": "stream",
          "name": "stdout",
          "text": [
            "Epoch: 14\n"
          ]
        },
        {
          "output_type": "stream",
          "name": "stderr",
          "text": [
            "100%|██████████| 13/13 [00:04<00:00,  3.14it/s, lr=0.0008, train_loss=5.27]\n",
            "100%|██████████| 13/13 [00:01<00:00,  9.97it/s, valid_loss=5.25]\n"
          ]
        },
        {
          "output_type": "stream",
          "name": "stdout",
          "text": [
            "Epoch: 15\n"
          ]
        },
        {
          "output_type": "stream",
          "name": "stderr",
          "text": [
            "100%|██████████| 13/13 [00:04<00:00,  3.13it/s, lr=0.0008, train_loss=5.27]\n",
            "100%|██████████| 13/13 [00:01<00:00, 10.00it/s, valid_loss=5.24]\n"
          ]
        },
        {
          "output_type": "stream",
          "name": "stdout",
          "text": [
            "Epoch: 16\n"
          ]
        },
        {
          "output_type": "stream",
          "name": "stderr",
          "text": [
            "100%|██████████| 13/13 [00:04<00:00,  3.12it/s, lr=0.0008, train_loss=5.26]\n",
            "100%|██████████| 13/13 [00:01<00:00,  9.38it/s, valid_loss=5.24]\n"
          ]
        },
        {
          "output_type": "stream",
          "name": "stdout",
          "text": [
            "Epoch: 17\n"
          ]
        },
        {
          "output_type": "stream",
          "name": "stderr",
          "text": [
            "100%|██████████| 13/13 [00:04<00:00,  3.12it/s, lr=0.0008, train_loss=5.27]\n",
            "100%|██████████| 13/13 [00:01<00:00,  9.94it/s, valid_loss=5.24]\n"
          ]
        },
        {
          "output_type": "stream",
          "name": "stdout",
          "text": [
            "Saved Best Model!\n",
            "Epoch: 18\n"
          ]
        },
        {
          "output_type": "stream",
          "name": "stderr",
          "text": [
            "100%|██████████| 13/13 [00:04<00:00,  3.10it/s, lr=0.0008, train_loss=5.27]\n",
            "100%|██████████| 13/13 [00:01<00:00,  9.95it/s, valid_loss=5.24]\n"
          ]
        },
        {
          "output_type": "stream",
          "name": "stdout",
          "text": [
            "Epoch: 19\n"
          ]
        },
        {
          "output_type": "stream",
          "name": "stderr",
          "text": [
            "100%|██████████| 13/13 [00:04<00:00,  3.11it/s, lr=0.00064, train_loss=5.27]\n",
            "100%|██████████| 13/13 [00:01<00:00,  9.90it/s, valid_loss=5.24]\n"
          ]
        },
        {
          "output_type": "stream",
          "name": "stdout",
          "text": [
            "Saved Best Model!\n",
            "Epoch: 20\n"
          ]
        },
        {
          "output_type": "stream",
          "name": "stderr",
          "text": [
            "100%|██████████| 13/13 [00:04<00:00,  3.10it/s, lr=0.00064, train_loss=5.26]\n",
            "100%|██████████| 13/13 [00:01<00:00,  9.87it/s, valid_loss=5.24]\n"
          ]
        },
        {
          "output_type": "stream",
          "name": "stdout",
          "text": [
            "Saved Best Model!\n",
            "Epoch: 21\n"
          ]
        },
        {
          "output_type": "stream",
          "name": "stderr",
          "text": [
            "100%|██████████| 13/13 [00:04<00:00,  3.10it/s, lr=0.00064, train_loss=5.31]\n",
            "100%|██████████| 13/13 [00:01<00:00,  9.89it/s, valid_loss=5.25]\n"
          ]
        },
        {
          "output_type": "stream",
          "name": "stdout",
          "text": [
            "Epoch: 22\n"
          ]
        },
        {
          "output_type": "stream",
          "name": "stderr",
          "text": [
            "100%|██████████| 13/13 [00:04<00:00,  3.10it/s, lr=0.00064, train_loss=5.28]\n",
            "100%|██████████| 13/13 [00:01<00:00,  9.87it/s, valid_loss=5.25]\n"
          ]
        },
        {
          "output_type": "stream",
          "name": "stdout",
          "text": [
            "Epoch: 23\n"
          ]
        },
        {
          "output_type": "stream",
          "name": "stderr",
          "text": [
            "100%|██████████| 13/13 [00:04<00:00,  3.11it/s, lr=0.00064, train_loss=5.27]\n",
            "100%|██████████| 13/13 [00:01<00:00,  9.88it/s, valid_loss=5.25]\n"
          ]
        },
        {
          "output_type": "stream",
          "name": "stdout",
          "text": [
            "Epoch: 24\n"
          ]
        },
        {
          "output_type": "stream",
          "name": "stderr",
          "text": [
            "100%|██████████| 13/13 [00:04<00:00,  3.11it/s, lr=0.00064, train_loss=5.27]\n",
            "100%|██████████| 13/13 [00:01<00:00,  9.92it/s, valid_loss=5.24]\n"
          ]
        },
        {
          "output_type": "stream",
          "name": "stdout",
          "text": [
            "Epoch: 25\n"
          ]
        },
        {
          "output_type": "stream",
          "name": "stderr",
          "text": [
            "100%|██████████| 13/13 [00:04<00:00,  3.11it/s, lr=0.00064, train_loss=5.27]\n",
            "100%|██████████| 13/13 [00:01<00:00,  9.89it/s, valid_loss=5.25]\n"
          ]
        },
        {
          "output_type": "stream",
          "name": "stdout",
          "text": [
            "Epoch: 26\n"
          ]
        },
        {
          "output_type": "stream",
          "name": "stderr",
          "text": [
            "100%|██████████| 13/13 [00:04<00:00,  3.11it/s, lr=0.00064, train_loss=5.26]\n",
            "100%|██████████| 13/13 [00:01<00:00,  9.93it/s, valid_loss=5.24]\n"
          ]
        },
        {
          "output_type": "stream",
          "name": "stdout",
          "text": [
            "Epoch: 27\n"
          ]
        },
        {
          "output_type": "stream",
          "name": "stderr",
          "text": [
            "100%|██████████| 13/13 [00:04<00:00,  3.11it/s, lr=0.000512, train_loss=5.26]\n",
            "100%|██████████| 13/13 [00:01<00:00,  9.90it/s, valid_loss=5.24]\n"
          ]
        },
        {
          "output_type": "stream",
          "name": "stdout",
          "text": [
            "Epoch: 28\n"
          ]
        },
        {
          "output_type": "stream",
          "name": "stderr",
          "text": [
            "100%|██████████| 13/13 [00:04<00:00,  3.12it/s, lr=0.000512, train_loss=5.26]\n",
            "100%|██████████| 13/13 [00:01<00:00,  9.95it/s, valid_loss=5.24]\n"
          ]
        },
        {
          "output_type": "stream",
          "name": "stdout",
          "text": [
            "Epoch: 29\n"
          ]
        },
        {
          "output_type": "stream",
          "name": "stderr",
          "text": [
            "100%|██████████| 13/13 [00:04<00:00,  3.12it/s, lr=0.000512, train_loss=5.26]\n",
            "100%|██████████| 13/13 [00:01<00:00,  9.94it/s, valid_loss=5.24]\n"
          ]
        },
        {
          "output_type": "stream",
          "name": "stdout",
          "text": [
            "Epoch: 30\n"
          ]
        },
        {
          "output_type": "stream",
          "name": "stderr",
          "text": [
            "100%|██████████| 13/13 [00:04<00:00,  3.11it/s, lr=0.000512, train_loss=5.26]\n",
            "100%|██████████| 13/13 [00:01<00:00,  9.90it/s, valid_loss=5.24]\n"
          ]
        },
        {
          "output_type": "stream",
          "name": "stdout",
          "text": [
            "Saved Best Model!\n",
            "Epoch: 31\n"
          ]
        },
        {
          "output_type": "stream",
          "name": "stderr",
          "text": [
            "100%|██████████| 13/13 [00:04<00:00,  3.11it/s, lr=0.000512, train_loss=5.26]\n",
            "100%|██████████| 13/13 [00:01<00:00,  9.95it/s, valid_loss=5.24]\n"
          ]
        },
        {
          "output_type": "stream",
          "name": "stdout",
          "text": [
            "Epoch: 32\n"
          ]
        },
        {
          "output_type": "stream",
          "name": "stderr",
          "text": [
            "100%|██████████| 13/13 [00:04<00:00,  3.11it/s, lr=0.000512, train_loss=5.25]\n",
            "100%|██████████| 13/13 [00:01<00:00,  9.96it/s, valid_loss=5.24]\n"
          ]
        },
        {
          "output_type": "stream",
          "name": "stdout",
          "text": [
            "Epoch: 33\n"
          ]
        },
        {
          "output_type": "stream",
          "name": "stderr",
          "text": [
            "100%|██████████| 13/13 [00:04<00:00,  3.11it/s, lr=0.00041, train_loss=5.26]\n",
            "100%|██████████| 13/13 [00:01<00:00,  9.92it/s, valid_loss=5.24]\n"
          ]
        },
        {
          "output_type": "stream",
          "name": "stdout",
          "text": [
            "Epoch: 34\n"
          ]
        },
        {
          "output_type": "stream",
          "name": "stderr",
          "text": [
            "100%|██████████| 13/13 [00:04<00:00,  3.11it/s, lr=0.00041, train_loss=5.25]\n",
            "100%|██████████| 13/13 [00:01<00:00,  9.92it/s, valid_loss=5.24]\n"
          ]
        },
        {
          "output_type": "stream",
          "name": "stdout",
          "text": [
            "Epoch: 35\n"
          ]
        },
        {
          "output_type": "stream",
          "name": "stderr",
          "text": [
            "100%|██████████| 13/13 [00:04<00:00,  3.12it/s, lr=0.00041, train_loss=5.26]\n",
            "100%|██████████| 13/13 [00:01<00:00,  9.94it/s, valid_loss=5.24]\n"
          ]
        },
        {
          "output_type": "stream",
          "name": "stdout",
          "text": [
            "Saved Best Model!\n",
            "Epoch: 36\n"
          ]
        },
        {
          "output_type": "stream",
          "name": "stderr",
          "text": [
            "100%|██████████| 13/13 [00:04<00:00,  3.12it/s, lr=0.00041, train_loss=5.26]\n",
            "100%|██████████| 13/13 [00:01<00:00,  9.94it/s, valid_loss=5.24]\n"
          ]
        },
        {
          "output_type": "stream",
          "name": "stdout",
          "text": [
            "Epoch: 37\n"
          ]
        },
        {
          "output_type": "stream",
          "name": "stderr",
          "text": [
            "100%|██████████| 13/13 [00:04<00:00,  3.11it/s, lr=0.00041, train_loss=5.26]\n",
            "100%|██████████| 13/13 [00:01<00:00,  9.91it/s, valid_loss=5.24]\n"
          ]
        },
        {
          "output_type": "stream",
          "name": "stdout",
          "text": [
            "Epoch: 38\n"
          ]
        },
        {
          "output_type": "stream",
          "name": "stderr",
          "text": [
            "100%|██████████| 13/13 [00:04<00:00,  3.11it/s, lr=0.00041, train_loss=5.25]\n",
            "100%|██████████| 13/13 [00:01<00:00,  9.92it/s, valid_loss=5.23]\n"
          ]
        },
        {
          "output_type": "stream",
          "name": "stdout",
          "text": [
            "Saved Best Model!\n",
            "Epoch: 39\n"
          ]
        },
        {
          "output_type": "stream",
          "name": "stderr",
          "text": [
            "100%|██████████| 13/13 [00:04<00:00,  3.11it/s, lr=0.00041, train_loss=5.26]\n",
            "100%|██████████| 13/13 [00:01<00:00,  9.97it/s, valid_loss=5.24]\n"
          ]
        },
        {
          "output_type": "stream",
          "name": "stdout",
          "text": [
            "Epoch: 40\n"
          ]
        },
        {
          "output_type": "stream",
          "name": "stderr",
          "text": [
            "100%|██████████| 13/13 [00:04<00:00,  3.11it/s, lr=0.00041, train_loss=5.25]\n",
            "100%|██████████| 13/13 [00:01<00:00,  9.88it/s, valid_loss=5.24]\n"
          ]
        },
        {
          "output_type": "stream",
          "name": "stdout",
          "text": [
            "Epoch: 41\n"
          ]
        },
        {
          "output_type": "stream",
          "name": "stderr",
          "text": [
            "100%|██████████| 13/13 [00:04<00:00,  3.11it/s, lr=0.00041, train_loss=5.25]\n",
            "100%|██████████| 13/13 [00:01<00:00,  9.94it/s, valid_loss=5.24]\n"
          ]
        },
        {
          "output_type": "stream",
          "name": "stdout",
          "text": [
            "Epoch: 42\n"
          ]
        },
        {
          "output_type": "stream",
          "name": "stderr",
          "text": [
            "100%|██████████| 13/13 [00:04<00:00,  3.11it/s, lr=0.00041, train_loss=5.26]\n",
            "100%|██████████| 13/13 [00:01<00:00,  9.91it/s, valid_loss=5.24]\n"
          ]
        },
        {
          "output_type": "stream",
          "name": "stdout",
          "text": [
            "Epoch: 43\n"
          ]
        },
        {
          "output_type": "stream",
          "name": "stderr",
          "text": [
            "100%|██████████| 13/13 [00:04<00:00,  3.11it/s, lr=0.00041, train_loss=5.26]\n",
            "100%|██████████| 13/13 [00:01<00:00,  9.86it/s, valid_loss=5.24]\n"
          ]
        },
        {
          "output_type": "stream",
          "name": "stdout",
          "text": [
            "Epoch: 44\n"
          ]
        },
        {
          "output_type": "stream",
          "name": "stderr",
          "text": [
            "100%|██████████| 13/13 [00:04<00:00,  3.11it/s, lr=0.00041, train_loss=5.26]\n",
            "100%|██████████| 13/13 [00:01<00:00,  9.90it/s, valid_loss=5.24]\n"
          ]
        },
        {
          "output_type": "stream",
          "name": "stdout",
          "text": [
            "Epoch: 45\n"
          ]
        },
        {
          "output_type": "stream",
          "name": "stderr",
          "text": [
            "100%|██████████| 13/13 [00:04<00:00,  3.10it/s, lr=0.000328, train_loss=5.26]\n",
            "100%|██████████| 13/13 [00:01<00:00,  9.89it/s, valid_loss=5.24]\n"
          ]
        },
        {
          "output_type": "stream",
          "name": "stdout",
          "text": [
            "Epoch: 46\n"
          ]
        },
        {
          "output_type": "stream",
          "name": "stderr",
          "text": [
            "100%|██████████| 13/13 [00:04<00:00,  3.10it/s, lr=0.000328, train_loss=5.25]\n",
            "100%|██████████| 13/13 [00:01<00:00,  9.85it/s, valid_loss=5.23]\n"
          ]
        },
        {
          "output_type": "stream",
          "name": "stdout",
          "text": [
            "Saved Best Model!\n",
            "Epoch: 47\n"
          ]
        },
        {
          "output_type": "stream",
          "name": "stderr",
          "text": [
            "100%|██████████| 13/13 [00:04<00:00,  3.10it/s, lr=0.000328, train_loss=5.26]\n",
            "100%|██████████| 13/13 [00:01<00:00,  9.87it/s, valid_loss=5.23]\n"
          ]
        },
        {
          "output_type": "stream",
          "name": "stdout",
          "text": [
            "Epoch: 48\n"
          ]
        },
        {
          "output_type": "stream",
          "name": "stderr",
          "text": [
            "100%|██████████| 13/13 [00:04<00:00,  3.10it/s, lr=0.000328, train_loss=5.25]\n",
            "100%|██████████| 13/13 [00:01<00:00,  9.86it/s, valid_loss=5.24]\n"
          ]
        },
        {
          "output_type": "stream",
          "name": "stdout",
          "text": [
            "Epoch: 49\n"
          ]
        },
        {
          "output_type": "stream",
          "name": "stderr",
          "text": [
            "100%|██████████| 13/13 [00:04<00:00,  3.11it/s, lr=0.000328, train_loss=5.25]\n",
            "100%|██████████| 13/13 [00:01<00:00,  9.88it/s, valid_loss=5.23]\n"
          ]
        },
        {
          "output_type": "stream",
          "name": "stdout",
          "text": [
            "Saved Best Model!\n",
            "Epoch: 50\n"
          ]
        },
        {
          "output_type": "stream",
          "name": "stderr",
          "text": [
            "100%|██████████| 13/13 [00:04<00:00,  3.10it/s, lr=0.000328, train_loss=5.25]\n",
            "100%|██████████| 13/13 [00:01<00:00,  9.35it/s, valid_loss=5.23]\n"
          ]
        },
        {
          "output_type": "stream",
          "name": "stdout",
          "text": [
            "Epoch: 51\n"
          ]
        },
        {
          "output_type": "stream",
          "name": "stderr",
          "text": [
            "100%|██████████| 13/13 [00:04<00:00,  3.10it/s, lr=0.000328, train_loss=5.25]\n",
            "100%|██████████| 13/13 [00:01<00:00,  9.93it/s, valid_loss=5.23]\n"
          ]
        },
        {
          "output_type": "stream",
          "name": "stdout",
          "text": [
            "Epoch: 52\n"
          ]
        },
        {
          "output_type": "stream",
          "name": "stderr",
          "text": [
            "100%|██████████| 13/13 [00:04<00:00,  3.11it/s, lr=0.000328, train_loss=5.25]\n",
            "100%|██████████| 13/13 [00:01<00:00,  9.92it/s, valid_loss=5.24]\n"
          ]
        },
        {
          "output_type": "stream",
          "name": "stdout",
          "text": [
            "Epoch: 53\n"
          ]
        },
        {
          "output_type": "stream",
          "name": "stderr",
          "text": [
            "100%|██████████| 13/13 [00:04<00:00,  3.10it/s, lr=0.000328, train_loss=5.25]\n",
            "100%|██████████| 13/13 [00:01<00:00,  9.89it/s, valid_loss=5.23]\n"
          ]
        },
        {
          "output_type": "stream",
          "name": "stdout",
          "text": [
            "Epoch: 54\n"
          ]
        },
        {
          "output_type": "stream",
          "name": "stderr",
          "text": [
            "100%|██████████| 13/13 [00:04<00:00,  3.10it/s, lr=0.000328, train_loss=5.25]\n",
            "100%|██████████| 13/13 [00:01<00:00,  9.86it/s, valid_loss=5.23]\n"
          ]
        },
        {
          "output_type": "stream",
          "name": "stdout",
          "text": [
            "Epoch: 55\n"
          ]
        },
        {
          "output_type": "stream",
          "name": "stderr",
          "text": [
            "100%|██████████| 13/13 [00:04<00:00,  3.10it/s, lr=0.000328, train_loss=5.24]\n",
            "100%|██████████| 13/13 [00:01<00:00,  9.91it/s, valid_loss=5.23]\n"
          ]
        },
        {
          "output_type": "stream",
          "name": "stdout",
          "text": [
            "Epoch: 56\n"
          ]
        },
        {
          "output_type": "stream",
          "name": "stderr",
          "text": [
            "100%|██████████| 13/13 [00:04<00:00,  3.10it/s, lr=0.000262, train_loss=5.25]\n",
            "100%|██████████| 13/13 [00:01<00:00,  9.86it/s, valid_loss=5.23]\n"
          ]
        },
        {
          "output_type": "stream",
          "name": "stdout",
          "text": [
            "Epoch: 57\n"
          ]
        },
        {
          "output_type": "stream",
          "name": "stderr",
          "text": [
            "100%|██████████| 13/13 [00:04<00:00,  3.11it/s, lr=0.000262, train_loss=5.24]\n",
            "100%|██████████| 13/13 [00:01<00:00,  9.92it/s, valid_loss=5.24]\n"
          ]
        },
        {
          "output_type": "stream",
          "name": "stdout",
          "text": [
            "Epoch: 58\n"
          ]
        },
        {
          "output_type": "stream",
          "name": "stderr",
          "text": [
            "100%|██████████| 13/13 [00:04<00:00,  3.11it/s, lr=0.000262, train_loss=5.25]\n",
            "100%|██████████| 13/13 [00:01<00:00,  9.85it/s, valid_loss=5.24]\n"
          ]
        },
        {
          "output_type": "stream",
          "name": "stdout",
          "text": [
            "Epoch: 59\n"
          ]
        },
        {
          "output_type": "stream",
          "name": "stderr",
          "text": [
            "100%|██████████| 13/13 [00:04<00:00,  3.11it/s, lr=0.000262, train_loss=5.26]\n",
            "100%|██████████| 13/13 [00:01<00:00,  9.92it/s, valid_loss=5.24]\n"
          ]
        },
        {
          "output_type": "stream",
          "name": "stdout",
          "text": [
            "Epoch: 60\n"
          ]
        },
        {
          "output_type": "stream",
          "name": "stderr",
          "text": [
            "100%|██████████| 13/13 [00:04<00:00,  3.10it/s, lr=0.000262, train_loss=5.25]\n",
            "100%|██████████| 13/13 [00:01<00:00,  9.91it/s, valid_loss=5.24]\n"
          ]
        },
        {
          "output_type": "stream",
          "name": "stdout",
          "text": [
            "Epoch: 61\n"
          ]
        },
        {
          "output_type": "stream",
          "name": "stderr",
          "text": [
            "100%|██████████| 13/13 [00:04<00:00,  3.11it/s, lr=0.000262, train_loss=5.25]\n",
            "100%|██████████| 13/13 [00:01<00:00,  9.94it/s, valid_loss=5.24]\n"
          ]
        },
        {
          "output_type": "stream",
          "name": "stdout",
          "text": [
            "Epoch: 62\n"
          ]
        },
        {
          "output_type": "stream",
          "name": "stderr",
          "text": [
            "100%|██████████| 13/13 [00:04<00:00,  3.10it/s, lr=0.00021, train_loss=5.24]\n",
            "100%|██████████| 13/13 [00:01<00:00,  9.90it/s, valid_loss=5.23]\n"
          ]
        },
        {
          "output_type": "stream",
          "name": "stdout",
          "text": [
            "Epoch: 63\n"
          ]
        },
        {
          "output_type": "stream",
          "name": "stderr",
          "text": [
            "100%|██████████| 13/13 [00:04<00:00,  3.11it/s, lr=0.00021, train_loss=5.24]\n",
            "100%|██████████| 13/13 [00:01<00:00,  9.91it/s, valid_loss=5.24]\n"
          ]
        },
        {
          "output_type": "stream",
          "name": "stdout",
          "text": [
            "Epoch: 64\n"
          ]
        },
        {
          "output_type": "stream",
          "name": "stderr",
          "text": [
            "100%|██████████| 13/13 [00:04<00:00,  3.10it/s, lr=0.00021, train_loss=5.24]\n",
            "100%|██████████| 13/13 [00:01<00:00,  9.89it/s, valid_loss=5.23]\n"
          ]
        },
        {
          "output_type": "stream",
          "name": "stdout",
          "text": [
            "Epoch: 65\n"
          ]
        },
        {
          "output_type": "stream",
          "name": "stderr",
          "text": [
            "100%|██████████| 13/13 [00:04<00:00,  3.11it/s, lr=0.00021, train_loss=5.24]\n",
            "100%|██████████| 13/13 [00:01<00:00,  9.84it/s, valid_loss=5.23]\n"
          ]
        },
        {
          "output_type": "stream",
          "name": "stdout",
          "text": [
            "Epoch: 66\n"
          ]
        },
        {
          "output_type": "stream",
          "name": "stderr",
          "text": [
            "100%|██████████| 13/13 [00:04<00:00,  3.10it/s, lr=0.00021, train_loss=5.24]\n",
            "100%|██████████| 13/13 [00:01<00:00,  9.83it/s, valid_loss=5.24]\n"
          ]
        },
        {
          "output_type": "stream",
          "name": "stdout",
          "text": [
            "Epoch: 67\n"
          ]
        },
        {
          "output_type": "stream",
          "name": "stderr",
          "text": [
            "100%|██████████| 13/13 [00:04<00:00,  3.10it/s, lr=0.00021, train_loss=5.24]\n",
            "100%|██████████| 13/13 [00:01<00:00,  9.92it/s, valid_loss=5.23]\n"
          ]
        },
        {
          "output_type": "stream",
          "name": "stdout",
          "text": [
            "Epoch: 68\n"
          ]
        },
        {
          "output_type": "stream",
          "name": "stderr",
          "text": [
            "100%|██████████| 13/13 [00:04<00:00,  3.10it/s, lr=0.000168, train_loss=5.24]\n",
            "100%|██████████| 13/13 [00:01<00:00,  9.90it/s, valid_loss=5.23]\n"
          ]
        },
        {
          "output_type": "stream",
          "name": "stdout",
          "text": [
            "Epoch: 69\n"
          ]
        },
        {
          "output_type": "stream",
          "name": "stderr",
          "text": [
            "100%|██████████| 13/13 [00:04<00:00,  3.11it/s, lr=0.000168, train_loss=5.24]\n",
            "100%|██████████| 13/13 [00:01<00:00,  9.95it/s, valid_loss=5.24]\n"
          ]
        },
        {
          "output_type": "stream",
          "name": "stdout",
          "text": [
            "Epoch: 70\n"
          ]
        },
        {
          "output_type": "stream",
          "name": "stderr",
          "text": [
            "100%|██████████| 13/13 [00:04<00:00,  3.11it/s, lr=0.000168, train_loss=5.24]\n",
            "100%|██████████| 13/13 [00:01<00:00,  9.92it/s, valid_loss=5.23]\n"
          ]
        },
        {
          "output_type": "stream",
          "name": "stdout",
          "text": [
            "Saved Best Model!\n",
            "Epoch: 71\n"
          ]
        },
        {
          "output_type": "stream",
          "name": "stderr",
          "text": [
            "100%|██████████| 13/13 [00:04<00:00,  3.10it/s, lr=0.000168, train_loss=5.24]\n",
            "100%|██████████| 13/13 [00:01<00:00,  9.89it/s, valid_loss=5.23]\n"
          ]
        },
        {
          "output_type": "stream",
          "name": "stdout",
          "text": [
            "Epoch: 72\n"
          ]
        },
        {
          "output_type": "stream",
          "name": "stderr",
          "text": [
            "100%|██████████| 13/13 [00:04<00:00,  3.11it/s, lr=0.000168, train_loss=5.24]\n",
            "100%|██████████| 13/13 [00:01<00:00,  9.90it/s, valid_loss=5.23]\n"
          ]
        },
        {
          "output_type": "stream",
          "name": "stdout",
          "text": [
            "Epoch: 73\n"
          ]
        },
        {
          "output_type": "stream",
          "name": "stderr",
          "text": [
            "100%|██████████| 13/13 [00:04<00:00,  3.10it/s, lr=0.000168, train_loss=5.23]\n",
            "100%|██████████| 13/13 [00:01<00:00,  9.94it/s, valid_loss=5.23]\n"
          ]
        },
        {
          "output_type": "stream",
          "name": "stdout",
          "text": [
            "Epoch: 74\n"
          ]
        },
        {
          "output_type": "stream",
          "name": "stderr",
          "text": [
            "100%|██████████| 13/13 [00:04<00:00,  3.11it/s, lr=0.000134, train_loss=5.24]\n",
            "100%|██████████| 13/13 [00:01<00:00,  9.94it/s, valid_loss=5.23]\n"
          ]
        },
        {
          "output_type": "stream",
          "name": "stdout",
          "text": [
            "Epoch: 75\n"
          ]
        },
        {
          "output_type": "stream",
          "name": "stderr",
          "text": [
            "100%|██████████| 13/13 [00:04<00:00,  3.11it/s, lr=0.000134, train_loss=5.23]\n",
            "100%|██████████| 13/13 [00:01<00:00,  9.85it/s, valid_loss=5.24]\n"
          ]
        },
        {
          "output_type": "stream",
          "name": "stdout",
          "text": [
            "Epoch: 76\n"
          ]
        },
        {
          "output_type": "stream",
          "name": "stderr",
          "text": [
            "100%|██████████| 13/13 [00:04<00:00,  3.11it/s, lr=0.000134, train_loss=5.24]\n",
            "100%|██████████| 13/13 [00:01<00:00,  9.92it/s, valid_loss=5.24]\n"
          ]
        },
        {
          "output_type": "stream",
          "name": "stdout",
          "text": [
            "Epoch: 77\n"
          ]
        },
        {
          "output_type": "stream",
          "name": "stderr",
          "text": [
            "100%|██████████| 13/13 [00:04<00:00,  3.11it/s, lr=0.000134, train_loss=5.24]\n",
            "100%|██████████| 13/13 [00:01<00:00,  9.97it/s, valid_loss=5.23]\n"
          ]
        },
        {
          "output_type": "stream",
          "name": "stdout",
          "text": [
            "Epoch: 78\n"
          ]
        },
        {
          "output_type": "stream",
          "name": "stderr",
          "text": [
            "100%|██████████| 13/13 [00:04<00:00,  3.11it/s, lr=0.000134, train_loss=5.24]\n",
            "100%|██████████| 13/13 [00:01<00:00,  9.91it/s, valid_loss=5.24]\n"
          ]
        },
        {
          "output_type": "stream",
          "name": "stdout",
          "text": [
            "Epoch: 79\n"
          ]
        },
        {
          "output_type": "stream",
          "name": "stderr",
          "text": [
            "100%|██████████| 13/13 [00:04<00:00,  3.11it/s, lr=0.000134, train_loss=5.23]\n",
            "100%|██████████| 13/13 [00:01<00:00,  9.89it/s, valid_loss=5.23]\n"
          ]
        },
        {
          "output_type": "stream",
          "name": "stdout",
          "text": [
            "Epoch: 80\n"
          ]
        },
        {
          "output_type": "stream",
          "name": "stderr",
          "text": [
            "100%|██████████| 13/13 [00:04<00:00,  3.11it/s, lr=0.000107, train_loss=5.23]\n",
            "100%|██████████| 13/13 [00:01<00:00,  9.91it/s, valid_loss=5.23]\n"
          ]
        },
        {
          "output_type": "stream",
          "name": "stdout",
          "text": [
            "Epoch: 81\n"
          ]
        },
        {
          "output_type": "stream",
          "name": "stderr",
          "text": [
            "100%|██████████| 13/13 [00:04<00:00,  3.11it/s, lr=0.000107, train_loss=5.24]\n",
            "100%|██████████| 13/13 [00:01<00:00,  9.92it/s, valid_loss=5.23]\n"
          ]
        },
        {
          "output_type": "stream",
          "name": "stdout",
          "text": [
            "Epoch: 82\n"
          ]
        },
        {
          "output_type": "stream",
          "name": "stderr",
          "text": [
            "100%|██████████| 13/13 [00:04<00:00,  3.12it/s, lr=0.000107, train_loss=5.23]\n",
            "100%|██████████| 13/13 [00:01<00:00,  9.93it/s, valid_loss=5.23]\n"
          ]
        },
        {
          "output_type": "stream",
          "name": "stdout",
          "text": [
            "Epoch: 83\n"
          ]
        },
        {
          "output_type": "stream",
          "name": "stderr",
          "text": [
            "100%|██████████| 13/13 [00:04<00:00,  3.11it/s, lr=0.000107, train_loss=5.24]\n",
            "100%|██████████| 13/13 [00:01<00:00,  9.89it/s, valid_loss=5.23]\n"
          ]
        },
        {
          "output_type": "stream",
          "name": "stdout",
          "text": [
            "Epoch: 84\n"
          ]
        },
        {
          "output_type": "stream",
          "name": "stderr",
          "text": [
            "100%|██████████| 13/13 [00:04<00:00,  3.11it/s, lr=0.000107, train_loss=5.24]\n",
            "100%|██████████| 13/13 [00:01<00:00,  9.39it/s, valid_loss=5.23]\n"
          ]
        },
        {
          "output_type": "stream",
          "name": "stdout",
          "text": [
            "Epoch: 85\n"
          ]
        },
        {
          "output_type": "stream",
          "name": "stderr",
          "text": [
            "100%|██████████| 13/13 [00:04<00:00,  3.11it/s, lr=0.000107, train_loss=5.23]\n",
            "100%|██████████| 13/13 [00:01<00:00,  9.92it/s, valid_loss=5.23]\n"
          ]
        },
        {
          "output_type": "stream",
          "name": "stdout",
          "text": [
            "Epoch: 86\n"
          ]
        },
        {
          "output_type": "stream",
          "name": "stderr",
          "text": [
            "100%|██████████| 13/13 [00:04<00:00,  3.11it/s, lr=8.59e-5, train_loss=5.23]\n",
            "100%|██████████| 13/13 [00:01<00:00,  9.92it/s, valid_loss=5.23]\n"
          ]
        },
        {
          "output_type": "stream",
          "name": "stdout",
          "text": [
            "Saved Best Model!\n",
            "Epoch: 87\n"
          ]
        },
        {
          "output_type": "stream",
          "name": "stderr",
          "text": [
            "100%|██████████| 13/13 [00:04<00:00,  3.11it/s, lr=8.59e-5, train_loss=5.24]\n",
            "100%|██████████| 13/13 [00:01<00:00,  9.92it/s, valid_loss=5.23]\n"
          ]
        },
        {
          "output_type": "stream",
          "name": "stdout",
          "text": [
            "Epoch: 88\n"
          ]
        },
        {
          "output_type": "stream",
          "name": "stderr",
          "text": [
            "100%|██████████| 13/13 [00:04<00:00,  3.10it/s, lr=8.59e-5, train_loss=5.24]\n",
            "100%|██████████| 13/13 [00:01<00:00,  9.89it/s, valid_loss=5.23]\n"
          ]
        },
        {
          "output_type": "stream",
          "name": "stdout",
          "text": [
            "Epoch: 89\n"
          ]
        },
        {
          "output_type": "stream",
          "name": "stderr",
          "text": [
            "100%|██████████| 13/13 [00:04<00:00,  3.10it/s, lr=8.59e-5, train_loss=5.23]\n",
            "100%|██████████| 13/13 [00:01<00:00,  9.84it/s, valid_loss=5.23]\n"
          ]
        },
        {
          "output_type": "stream",
          "name": "stdout",
          "text": [
            "Saved Best Model!\n",
            "Epoch: 90\n"
          ]
        },
        {
          "output_type": "stream",
          "name": "stderr",
          "text": [
            "100%|██████████| 13/13 [00:04<00:00,  3.11it/s, lr=8.59e-5, train_loss=5.24]\n",
            "100%|██████████| 13/13 [00:01<00:00,  9.82it/s, valid_loss=5.23]\n"
          ]
        },
        {
          "output_type": "stream",
          "name": "stdout",
          "text": [
            "Epoch: 91\n"
          ]
        },
        {
          "output_type": "stream",
          "name": "stderr",
          "text": [
            "100%|██████████| 13/13 [00:04<00:00,  3.11it/s, lr=8.59e-5, train_loss=5.23]\n",
            "100%|██████████| 13/13 [00:01<00:00,  9.87it/s, valid_loss=5.23]\n"
          ]
        },
        {
          "output_type": "stream",
          "name": "stdout",
          "text": [
            "Epoch: 92\n"
          ]
        },
        {
          "output_type": "stream",
          "name": "stderr",
          "text": [
            "100%|██████████| 13/13 [00:04<00:00,  3.11it/s, lr=8.59e-5, train_loss=5.23]\n",
            "100%|██████████| 13/13 [00:01<00:00,  9.88it/s, valid_loss=5.23]\n"
          ]
        },
        {
          "output_type": "stream",
          "name": "stdout",
          "text": [
            "Epoch: 93\n"
          ]
        },
        {
          "output_type": "stream",
          "name": "stderr",
          "text": [
            "100%|██████████| 13/13 [00:04<00:00,  3.11it/s, lr=6.87e-5, train_loss=5.24]\n",
            "100%|██████████| 13/13 [00:01<00:00,  9.91it/s, valid_loss=5.23]\n"
          ]
        },
        {
          "output_type": "stream",
          "name": "stdout",
          "text": [
            "Epoch: 94\n"
          ]
        },
        {
          "output_type": "stream",
          "name": "stderr",
          "text": [
            "100%|██████████| 13/13 [00:04<00:00,  3.10it/s, lr=6.87e-5, train_loss=5.23]\n",
            "100%|██████████| 13/13 [00:01<00:00,  9.84it/s, valid_loss=5.23]\n"
          ]
        },
        {
          "output_type": "stream",
          "name": "stdout",
          "text": [
            "Epoch: 95\n"
          ]
        },
        {
          "output_type": "stream",
          "name": "stderr",
          "text": [
            "100%|██████████| 13/13 [00:04<00:00,  3.11it/s, lr=6.87e-5, train_loss=5.23]\n",
            "100%|██████████| 13/13 [00:01<00:00,  9.88it/s, valid_loss=5.23]\n"
          ]
        },
        {
          "output_type": "stream",
          "name": "stdout",
          "text": [
            "Epoch: 96\n"
          ]
        },
        {
          "output_type": "stream",
          "name": "stderr",
          "text": [
            "100%|██████████| 13/13 [00:04<00:00,  3.10it/s, lr=6.87e-5, train_loss=5.23]\n",
            "100%|██████████| 13/13 [00:01<00:00,  9.87it/s, valid_loss=5.23]\n"
          ]
        },
        {
          "output_type": "stream",
          "name": "stdout",
          "text": [
            "Epoch: 97\n"
          ]
        },
        {
          "output_type": "stream",
          "name": "stderr",
          "text": [
            "100%|██████████| 13/13 [00:04<00:00,  3.10it/s, lr=6.87e-5, train_loss=5.23]\n",
            "100%|██████████| 13/13 [00:01<00:00,  9.83it/s, valid_loss=5.23]\n"
          ]
        },
        {
          "output_type": "stream",
          "name": "stdout",
          "text": [
            "Epoch: 98\n"
          ]
        },
        {
          "output_type": "stream",
          "name": "stderr",
          "text": [
            "100%|██████████| 13/13 [00:04<00:00,  3.10it/s, lr=6.87e-5, train_loss=5.23]\n",
            "100%|██████████| 13/13 [00:01<00:00,  9.88it/s, valid_loss=5.23]\n"
          ]
        },
        {
          "output_type": "stream",
          "name": "stdout",
          "text": [
            "Epoch: 99\n"
          ]
        },
        {
          "output_type": "stream",
          "name": "stderr",
          "text": [
            "100%|██████████| 13/13 [00:04<00:00,  3.10it/s, lr=5.5e-5, train_loss=5.23]\n",
            "100%|██████████| 13/13 [00:01<00:00,  9.84it/s, valid_loss=5.23]\n"
          ]
        },
        {
          "output_type": "stream",
          "name": "stdout",
          "text": [
            "Epoch: 100\n"
          ]
        },
        {
          "output_type": "stream",
          "name": "stderr",
          "text": [
            "100%|██████████| 13/13 [00:04<00:00,  3.10it/s, lr=5.5e-5, train_loss=5.23]\n",
            "100%|██████████| 13/13 [00:01<00:00,  9.86it/s, valid_loss=5.23]\n"
          ]
        }
      ]
    },
    {
      "cell_type": "code",
      "source": [
        "for source, target in train_loader_HL:\n",
        "    source, target = source.float().unsqueeze(1).to(device), target.float().unsqueeze(1).to(device)\n",
        "\n",
        "    _, logits = model(source, target)   # logits , shape (256, 256)\n",
        "    logits = logits.T\n",
        "    logits = logits.softmax(dim = -1)\n",
        "\n",
        "    _, idx = torch.max(logits, dim = -1)\n",
        "\n",
        "    s = source[0]\n",
        "    t = target[idx[0]]\n",
        "\n",
        "    break\n",
        "\n",
        "import matplotlib.pyplot as plt\n",
        "\n",
        "s = s.squeeze(0)\n",
        "t = t.squeeze(0)\n",
        "\n",
        "x = np.arange(121)\n",
        "s = s.cpu()\n",
        "t = t.cpu()\n",
        "\n",
        "plt.plot(x, s)\n",
        "plt.plot(x, t)\n",
        "plt.show()\n"
      ],
      "metadata": {
        "colab": {
          "base_uri": "https://localhost:8080/",
          "height": 265
        },
        "id": "JdwIhGNQ7mKk",
        "outputId": "893a7e84-a59b-4e08-8e1c-4cc9c02ca966"
      },
      "execution_count": 275,
      "outputs": [
        {
          "output_type": "display_data",
          "data": {
            "text/plain": [
              "<Figure size 432x288 with 1 Axes>"
            ],
            "image/png": "[encoded data removed]"
          },
          "metadata": {
            "needs_background": "light"
          }
        }
      ]
    },
    {
      "cell_type": "code",
      "source": [
        ""
      ],
      "metadata": {
        "id": "1EPIrPkUUDIW"
      },
      "execution_count": 262,
      "outputs": []
    }
  ]
}